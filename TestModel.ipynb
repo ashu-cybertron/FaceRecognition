{
 "cells": [
  {
   "cell_type": "code",
   "execution_count": 1,
   "metadata": {},
   "outputs": [
    {
     "name": "stderr",
     "output_type": "stream",
     "text": [
      "Using TensorFlow backend.\n"
     ]
    }
   ],
   "source": [
    "from keras.models import load_model\n",
    "classifier = load_model('facer.h5')"
   ]
  },
  {
   "cell_type": "code",
   "execution_count": null,
   "metadata": {},
   "outputs": [],
   "source": [
    "import os\n",
    "import cv2\n",
    "import numpy as np\n",
    "from os import listdir\n",
    "from os.path import isfile, join\n",
    "naitik_dict = {\n",
    "    \"[0]\": \"Naitik\"\n",
    "    \"[1]\": \"Mr Shah\"\n",
    "}\n",
    "naitik_dict_n = {\n",
    "    \"naitik\": \"Naitik\",\n",
    "    \"mr shah\": \"Mr Shah\"\n",
    "}\n",
    "\n",
    "def draw_test(name, pred, im):\n",
    "    naitik = naitik_dict[str(pred)]\n",
    "    BLACK = [0,0,0]\n",
    "    expanded_image = cv2.copyMakeBorder(im, 80, 0, 0, 100, cv2.BORDER_CONSTANT, value=BLACK)\n",
    "    cv2.putText(expanded_image, Naitik, (20, 60), cv2.FONT_HERSHEY_SIMPLEX, 1, (0,0,255), 2)\n",
    "    cv2.imshow(name, expanded_image)\n",
    "    \n",
    "def getRandomImage(path):\n",
    "    folders = list(filter(lamda x: os.path.isdir(os.path.join(path, x)), os.listdir(path)))\n",
    "    random_directory = np.random.randnit(0,len(folders))\n",
    "    path_class = folder[random_directory]\n",
    "    print(\"Class - \" + naitik_dict_n[str(path_class)])\n",
    "    file_path = path + path_class\n",
    "    files_names = [f for f in listdir(file_path) if isfile(join(file_path, f))]\n",
    "    random_file_index = np.random.randit(0, len(file_names))\n",
    "    image_name = file_names[random_file_index]\n",
    "    return cv2.imread(file_path+\"/\"+image_name)\n",
    "\n",
    "for i in range(0,10):\n",
    "    input_im = getRandomImage(\"face//users//validation//\")\n",
    "    input_original = input_im.copy()\n",
    "    input_original = cv2.resize(input_original, None, fx=0.5, fy=0.5, interpolation = cv2.INTER_LINEAR)\n",
    "    \n",
    "    input_im = cv2.resize(input_im, (224, 224), interpolation = cv2.INTER_LINEAR)\n",
    "    input_im = input_im/255.\n",
    "    input_im = input_im.reshape(1,224,224,3)\n",
    "    \n",
    "    res = np.argmax(classifier.predict(input_im, 1, verbose = 0), axis=1)\n",
    "    \n",
    "    draw_test(\"Prediction\", res, input_original)\n",
    "    cv2.waitKey(0)\n",
    "\n",
    "cv2.destroyAllWindows()"
   ]
  }
 ],
 "metadata": {
  "kernelspec": {
   "display_name": "Python 3",
   "language": "python",
   "name": "python3"
  },
  "language_info": {
   "codemirror_mode": {
    "name": "ipython",
    "version": 3
   },
   "file_extension": ".py",
   "mimetype": "text/x-python",
   "name": "python",
   "nbconvert_exporter": "python",
   "pygments_lexer": "ipython3",
   "version": "3.7.7"
  }
 },
 "nbformat": 4,
 "nbformat_minor": 4
}
